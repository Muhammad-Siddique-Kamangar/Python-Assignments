{
 "cells": [
  {
   "cell_type": "code",
   "execution_count": 2,
   "id": "d7a3789e",
   "metadata": {},
   "outputs": [
    {
     "name": "stdout",
     "output_type": "stream",
     "text": [
      "Please select an operation to perform\n",
      "1 or + to Add\n",
      "2 or - to Subtract\n",
      "3 or * to Multiply\n",
      "4 or / to Divide\n",
      "Select an operator 2\n",
      "Enter the first number: 2\n",
      "Enter the second number: 1\n",
      "the subtraction is 1.0\n"
     ]
    }
   ],
   "source": [
    "# Question number 1\n",
    "\n",
    "print(\"Please select an operation to perform\")\n",
    "print(\"1 or + to Add\")\n",
    "print(\"2 or - to Subtract\")\n",
    "print(\"3 or * to Multiply\")\n",
    "print(\"4 or / to Divide\")\n",
    "operation = input(\"Select an operator \")\n",
    "if operation == \"1\":\n",
    "    num1 = input(\"Enter the first number: \")\n",
    "    num2 = input(\"Enter the second number: \")\n",
    "    num1 = float(num1)\n",
    "    num2 = float(num2)\n",
    "    print(\"the addition is \" + str(num1 + num2))\n",
    "elif operation == \"2\":\n",
    "    num1 = input(\"Enter the first number: \")\n",
    "    num2 = input(\"Enter the second number: \")\n",
    "    num1 = float(num1)\n",
    "    num2 = float(num2)\n",
    "    print(\"the subtraction is \" + str(num1 - num2))\n",
    "elif operation == \"3\":\n",
    "    num1 = input(\"Enter the first number: \")\n",
    "    num2 = input(\"Enter the second number: \")\n",
    "    num1 = float(num1)\n",
    "    num2 = float(num2)\n",
    "    print(\"the product is \" + str(num1 * num2))\n",
    "elif operation == \"4\":\n",
    "    num1 = input(\"Enter the first number: \")\n",
    "    num2 = input(\"Enter the second number: \")\n",
    "    num1 = float(num1)\n",
    "    num2 = float(num2)\n",
    "    print(\"the division is \" + str(num1 / num2))\n",
    "else:\n",
    "    print(\"Invalid Entry\")"
   ]
  },
  {
   "cell_type": "code",
   "execution_count": 4,
   "id": "0302c1ca",
   "metadata": {},
   "outputs": [
    {
     "name": "stdout",
     "output_type": "stream",
     "text": [
      "No, there isn't any numeric value\n"
     ]
    }
   ],
   "source": [
    "# Question number 2\n",
    "\n",
    "list = [\"abc\", \"def\", 4, \"ghi\"] \n",
    "for x in list: \n",
    "    if type(x) == int: \n",
    "        print(x)\n",
    "        break\n",
    "else:\n",
    "    print(\"No, there isn't any numeric value\")"
   ]
  },
  {
   "cell_type": "code",
   "execution_count": 5,
   "id": "62ab5aa0",
   "metadata": {},
   "outputs": [
    {
     "name": "stdout",
     "output_type": "stream",
     "text": [
      "{'1': '100', '2': '200', '3': '300'}\n"
     ]
    }
   ],
   "source": [
    "# Question number 3\n",
    "\n",
    "Dictionary = {\n",
    "    \"1\": \"100\",\n",
    "    \"2\": \"200\",\n",
    "}\n",
    "Dictionary[\"3\"] = \"300\"\n",
    "print(Dictionary)"
   ]
  },
  {
   "cell_type": "code",
   "execution_count": 8,
   "id": "4ef817a8",
   "metadata": {},
   "outputs": [
    {
     "name": "stdout",
     "output_type": "stream",
     "text": [
      "401\n"
     ]
    }
   ],
   "source": [
    "# Question number 4\n",
    "\n",
    "dict = {\n",
    "    \"data1\":100,\n",
    "    \"data2\":54,\n",
    "    \"data3\":247,\n",
    "}\n",
    "print(sum(dict.values()))"
   ]
  },
  {
   "cell_type": "code",
   "execution_count": 36,
   "id": "547fdb12",
   "metadata": {},
   "outputs": [
    {
     "name": "stdout",
     "output_type": "stream",
     "text": [
      "Counter({1: 4, 2: 3, 5: 2, 9: 2, 3: 1, 4: 1, 6: 1, 7: 1, 8: 1})\n"
     ]
    },
    {
     "ename": "TypeError",
     "evalue": "'list' object is not callable",
     "output_type": "error",
     "traceback": [
      "\u001b[1;31m---------------------------------------------------------------------------\u001b[0m",
      "\u001b[1;31mTypeError\u001b[0m                                 Traceback (most recent call last)",
      "\u001b[1;32m<ipython-input-36-1681c0b4c67f>\u001b[0m in \u001b[0;36m<module>\u001b[1;34m\u001b[0m\n\u001b[0;32m      7\u001b[0m \u001b[0mprint\u001b[0m\u001b[1;33m(\u001b[0m\u001b[0md\u001b[0m\u001b[1;33m)\u001b[0m\u001b[1;33m\u001b[0m\u001b[1;33m\u001b[0m\u001b[0m\n\u001b[0;32m      8\u001b[0m \u001b[1;33m\u001b[0m\u001b[0m\n\u001b[1;32m----> 9\u001b[1;33m \u001b[0mnew_list\u001b[0m \u001b[1;33m=\u001b[0m \u001b[0mlist\u001b[0m\u001b[1;33m(\u001b[0m\u001b[1;33m[\u001b[0m\u001b[0mitem\u001b[0m \u001b[1;32mfor\u001b[0m \u001b[0mitem\u001b[0m \u001b[1;32min\u001b[0m \u001b[0md\u001b[0m \u001b[1;32mif\u001b[0m \u001b[0md\u001b[0m\u001b[1;33m[\u001b[0m\u001b[0mitem\u001b[0m\u001b[1;33m]\u001b[0m\u001b[1;33m>\u001b[0m\u001b[1;36m1\u001b[0m\u001b[1;33m]\u001b[0m\u001b[1;33m)\u001b[0m\u001b[1;33m\u001b[0m\u001b[1;33m\u001b[0m\u001b[0m\n\u001b[0m\u001b[0;32m     10\u001b[0m \u001b[0mprint\u001b[0m\u001b[1;33m(\u001b[0m\u001b[0mnew_list\u001b[0m\u001b[1;33m)\u001b[0m\u001b[1;33m\u001b[0m\u001b[1;33m\u001b[0m\u001b[0m\n",
      "\u001b[1;31mTypeError\u001b[0m: 'list' object is not callable"
     ]
    }
   ],
   "source": [
    "# Question number 5\n",
    "\n",
    "from collections import Counter\n",
    " \n",
    "l1 = [1,2,1,2,3,4,5,1,1,2,5,6,7,8,9,9]\n",
    "d = Counter(l1)\n",
    "print(d)\n",
    " \n",
    "new_list = list([item for item in d if d[item]>1])\n",
    "print(new_list)"
   ]
  },
  {
   "cell_type": "code",
   "execution_count": 40,
   "id": "fcc776aa",
   "metadata": {},
   "outputs": [
    {
     "name": "stdout",
     "output_type": "stream",
     "text": [
      "Key is present in the dictionary\n"
     ]
    }
   ],
   "source": [
    "#Question number 6\n",
    "\n",
    "d = {\n",
    "     1: 100, \n",
    "     2: 200, \n",
    "     3: 300, \n",
    "     4: 400,\n",
    "     5: 500,\n",
    "}\n",
    "\n",
    "def is_key_present(x):\n",
    "  if x in d:\n",
    "      print('Key is present in the dictionary')\n",
    "  else:\n",
    "      print('Key is not present in the dictionary')\n",
    "is_key_present(4)\n"
   ]
  },
  {
   "cell_type": "code",
   "execution_count": null,
   "id": "844c237a",
   "metadata": {},
   "outputs": [],
   "source": []
  }
 ],
 "metadata": {
  "kernelspec": {
   "display_name": "Python 3",
   "language": "python",
   "name": "python3"
  },
  "language_info": {
   "codemirror_mode": {
    "name": "ipython",
    "version": 3
   },
   "file_extension": ".py",
   "mimetype": "text/x-python",
   "name": "python",
   "nbconvert_exporter": "python",
   "pygments_lexer": "ipython3",
   "version": "3.8.8"
  }
 },
 "nbformat": 4,
 "nbformat_minor": 5
}
