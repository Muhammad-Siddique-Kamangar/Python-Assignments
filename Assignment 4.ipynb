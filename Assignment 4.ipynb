{
 "cells": [
  {
   "cell_type": "code",
   "execution_count": 8,
   "id": "226bf180",
   "metadata": {},
   "outputs": [
    {
     "name": "stdout",
     "output_type": "stream",
     "text": [
      "Please select an operation to perform\n",
      "1 or + to Add\n",
      "2 or - to Subtract\n",
      "3 or * to Multiply\n",
      "4 or / to Divide\n",
      "Select an operator 3\n",
      "Enter the first number: 3\n",
      "Enter the second number: 2\n",
      "the product is 6.0\n"
     ]
    }
   ],
   "source": [
    "# Question number 1\n",
    "\n",
    "print(\"Please select an operation to perform\")\n",
    "print(\"1 or + to Add\")\n",
    "print(\"2 or - to Subtract\")\n",
    "print(\"3 or * to Multiply\")\n",
    "print(\"4 or / to Divide\")\n",
    "operation = input(\"Select an operator \")\n",
    "if operation == \"1\":\n",
    "    num1 = input(\"Enter the first number: \")\n",
    "    num2 = input(\"Enter the second number: \")\n",
    "    num1 = float(num1)\n",
    "    num2 = float(num2)\n",
    "    print(\"the addition is \" + str(num1 + num2))\n",
    "elif operation == \"2\":\n",
    "    num1 = input(\"Enter the first number: \")\n",
    "    num2 = input(\"Enter the second number: \")\n",
    "    num1 = float(num1)\n",
    "    num2 = float(num2)\n",
    "    print(\"the subtraction is \" + str(num1 - num2))\n",
    "elif operation == \"3\":\n",
    "    num1 = input(\"Enter the first number: \")\n",
    "    num2 = input(\"Enter the second number: \")\n",
    "    num1 = float(num1)\n",
    "    num2 = float(num2)\n",
    "    print(\"the product is \" + str(num1 * num2))\n",
    "elif operation == \"4\":\n",
    "    num1 = input(\"Enter the first number: \")\n",
    "    num2 = input(\"Enter the second number: \")\n",
    "    num1 = float(num1)\n",
    "    num2 = float(num2)\n",
    "    print(\"the division is \" + str(num1 / num2))\n",
    "else:\n",
    "    print(\"Invalid Entry\")"
   ]
  },
  {
   "cell_type": "code",
   "execution_count": 17,
   "id": "d3224a6d",
   "metadata": {},
   "outputs": [
    {
     "name": "stdout",
     "output_type": "stream",
     "text": [
      "4\n"
     ]
    }
   ],
   "source": [
    "# Question number 2\n",
    "\n",
    "list = [\"abc\", \"def\", 4, \"ghi\"] \n",
    "for x in list: \n",
    "    if type(x) == int: \n",
    "        print(x)\n",
    "        break\n",
    "else:\n",
    "    print(\"No, there isn't any numeric value\")"
   ]
  },
  {
   "cell_type": "code",
   "execution_count": 16,
   "id": "8c85b815",
   "metadata": {},
   "outputs": [
    {
     "name": "stdout",
     "output_type": "stream",
     "text": [
      "{'1': '100', '2': '200', '3': '300'}\n"
     ]
    }
   ],
   "source": [
    "# Question number 3\n",
    "\n",
    "Dictionary = {\n",
    "    \"1\": \"100\",\n",
    "    \"2\": \"200\",\n",
    "}\n",
    "Dictionary[\"3\"] = \"300\"\n",
    "print(Dictionary)"
   ]
  },
  {
   "cell_type": "code",
   "execution_count": 13,
   "id": "be254b4b",
   "metadata": {},
   "outputs": [
    {
     "ename": "NameError",
     "evalue": "name 'my_dict' is not defined",
     "output_type": "error",
     "traceback": [
      "\u001b[1;31m---------------------------------------------------------------------------\u001b[0m",
      "\u001b[1;31mNameError\u001b[0m                                 Traceback (most recent call last)",
      "\u001b[1;32m<ipython-input-13-21a91d116389>\u001b[0m in \u001b[0;36m<module>\u001b[1;34m\u001b[0m\n\u001b[0;32m      5\u001b[0m     \u001b[1;34m\"data3\"\u001b[0m\u001b[1;33m:\u001b[0m\u001b[1;36m247\u001b[0m\u001b[1;33m,\u001b[0m\u001b[1;33m\u001b[0m\u001b[1;33m\u001b[0m\u001b[0m\n\u001b[0;32m      6\u001b[0m }\n\u001b[1;32m----> 7\u001b[1;33m \u001b[0mprint\u001b[0m\u001b[1;33m(\u001b[0m\u001b[0msum\u001b[0m\u001b[1;33m(\u001b[0m\u001b[0mmy_dict\u001b[0m\u001b[1;33m.\u001b[0m\u001b[0mvalues\u001b[0m\u001b[1;33m(\u001b[0m\u001b[1;33m)\u001b[0m\u001b[1;33m)\u001b[0m\u001b[1;33m)\u001b[0m\u001b[1;33m\u001b[0m\u001b[1;33m\u001b[0m\u001b[0m\n\u001b[0m",
      "\u001b[1;31mNameError\u001b[0m: name 'my_dict' is not defined"
     ]
    }
   ],
   "source": []
  },
  {
   "cell_type": "code",
   "execution_count": 14,
   "id": "e922f855",
   "metadata": {},
   "outputs": [
    {
     "ename": "NameError",
     "evalue": "name 'my_dict' is not defined",
     "output_type": "error",
     "traceback": [
      "\u001b[1;31m---------------------------------------------------------------------------\u001b[0m",
      "\u001b[1;31mNameError\u001b[0m                                 Traceback (most recent call last)",
      "\u001b[1;32m<ipython-input-14-21a91d116389>\u001b[0m in \u001b[0;36m<module>\u001b[1;34m\u001b[0m\n\u001b[0;32m      5\u001b[0m     \u001b[1;34m\"data3\"\u001b[0m\u001b[1;33m:\u001b[0m\u001b[1;36m247\u001b[0m\u001b[1;33m,\u001b[0m\u001b[1;33m\u001b[0m\u001b[1;33m\u001b[0m\u001b[0m\n\u001b[0;32m      6\u001b[0m }\n\u001b[1;32m----> 7\u001b[1;33m \u001b[0mprint\u001b[0m\u001b[1;33m(\u001b[0m\u001b[0msum\u001b[0m\u001b[1;33m(\u001b[0m\u001b[0mmy_dict\u001b[0m\u001b[1;33m.\u001b[0m\u001b[0mvalues\u001b[0m\u001b[1;33m(\u001b[0m\u001b[1;33m)\u001b[0m\u001b[1;33m)\u001b[0m\u001b[1;33m)\u001b[0m\u001b[1;33m\u001b[0m\u001b[1;33m\u001b[0m\u001b[0m\n\u001b[0m",
      "\u001b[1;31mNameError\u001b[0m: name 'my_dict' is not defined"
     ]
    }
   ],
   "source": [
    "# Question number 4\n",
    "dict = {\n",
    "    \"data1\":100,\n",
    "    \"data2\":54,\n",
    "    \"data3\":247,\n",
    "}\n",
    "print(sum(my_dict.values()))"
   ]
  },
  {
   "cell_type": "code",
   "execution_count": null,
   "id": "470a41f0",
   "metadata": {},
   "outputs": [],
   "source": []
  },
  {
   "cell_type": "code",
   "execution_count": null,
   "id": "87842fe1",
   "metadata": {},
   "outputs": [],
   "source": []
  }
 ],
 "metadata": {
  "kernelspec": {
   "display_name": "Python 3",
   "language": "python",
   "name": "python3"
  },
  "language_info": {
   "codemirror_mode": {
    "name": "ipython",
    "version": 3
   },
   "file_extension": ".py",
   "mimetype": "text/x-python",
   "name": "python",
   "nbconvert_exporter": "python",
   "pygments_lexer": "ipython3",
   "version": "3.8.8"
  }
 },
 "nbformat": 4,
 "nbformat_minor": 5
}
